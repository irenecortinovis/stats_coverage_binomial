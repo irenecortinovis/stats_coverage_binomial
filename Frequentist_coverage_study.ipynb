{
 "cells": [
  {
   "cell_type": "code",
   "execution_count": 26,
   "metadata": {},
   "outputs": [],
   "source": [
    "import numpy as np\n",
    "import scipy.special as sp\n",
    "import matplotlib.pyplot as plt"
   ]
  },
  {
   "cell_type": "code",
   "execution_count": 73,
   "metadata": {},
   "outputs": [],
   "source": [
    "def mean(p, N):                         # Mean value of successes E(n)\n",
    "    return p*N\n",
    "\n",
    "def var(p, N):                          # Variance of successes V(n)\n",
    "    return p*N*(1-p)\n",
    "\n",
    "def sigma(p, N):\n",
    "    return np.sqrt(var(p,N))/N                 \n",
    "\n",
    "def Z(CL):\n",
    "    return np.sqrt(2)*sp.erfinv(CL)     # Function that returns the number of sigmas for a given CL\n",
    "\n",
    "def wald(n, N, CL, verbose=False):\n",
    "    p_hat = n/N                         # Estimation of p as p = n / N = #successes / #experiments\n",
    "    p_sigma = sigma(p_hat,N)            # Standard deviation of p\n",
    "    z = Z(CL)\n",
    "    interval = [p_hat - z*p_sigma, p_hat + z*p_sigma]  # Confidence interval for p in the Gaussian approximation\n",
    "    if(verbose == True):\n",
    "        print(\"The Wald confidence interval for p given %d successes in %d experiments is:\" % (n, N) )\n",
    "        print(interval)\n",
    "    return interval\n",
    "\n",
    "def wilson(n, N, CL, verbose=False):   \n",
    "    p_hat = n/N\n",
    "    p_sigma = sigma(p_hat,N)\n",
    "    z = Z(CL)\n",
    "    step = 0.01\n",
    "    p1 = p_hat                           #initialise\n",
    "    p2 = p_hat                           #initialise\n",
    "    while(p1 + z*sigma(p1,N) >= p_hat):\n",
    "        p1-=step\n",
    "    while(p_hat >= p2 - z*sigma(p2,N)):\n",
    "        p2+=step\n",
    "    interval = [p1, p2]  # Wilson confidence interval for p\n",
    "    if(verbose == True):\n",
    "        print(\"The Wilson confidence interval for p given %d successes in %d experiments is:\" % (n, N) )\n",
    "        print(interval)\n",
    "    return interval\n",
    "\n",
    "def agresticoull(n,N,CL,verbose=False):\n",
    "    int_wilson = wilson(n,N,CL)\n",
    "    p_midpoint_wilson = (int_wilson[0]+int_wilson[1])/2\n",
    "    p_sigma = sigma(p_midpoint_wilson,N) \n",
    "    z = Z(CL)\n",
    "    interval = [p_midpoint_wilson - z*p_sigma, p_midpoint_wilson + z*p_sigma]  # Confidence interval for p in the Gaussian approximation\n",
    "    if(verbose == True):\n",
    "        print(\"The Agresti and Coull confidence interval for p given %d successes in %d experiments is:\" % (n, N) )\n",
    "        print(interval)\n",
    "    return interval\n",
    "    \n",
    "\n",
    "        "
   ]
  },
  {
   "cell_type": "code",
   "execution_count": 103,
   "metadata": {},
   "outputs": [
    {
     "name": "stdout",
     "output_type": "stream",
     "text": [
      "The Wald confidence interval for p given 9 successes in 10 experiments is:\n",
      "[0.8051296102882612, 0.9948703897117388]\n",
      "The Wilson confidence interval for p given 9 successes in 10 experiments is:\n",
      "[0.7599999999999999, 0.9700000000000001]\n",
      "The Agresti and Coull confidence interval for p given 9 successes in 10 experiments is:\n",
      "[0.7569351716784586, 0.9730648283215414]\n"
     ]
    },
    {
     "data": {
      "text/plain": [
       "[0.7569351716784586, 0.9730648283215414]"
      ]
     },
     "execution_count": 103,
     "metadata": {},
     "output_type": "execute_result"
    }
   ],
   "source": [
    "N = 10\n",
    "n = 9\n",
    "CL = 0.6827\n",
    "z = Z(CL)\n",
    "\n",
    "wald(n, N, CL, verbose=True)\n",
    "wilson(n,N,CL, verbose=True)\n",
    "agresticoull(n,N,CL, verbose=True)"
   ]
  },
  {
   "cell_type": "code",
   "execution_count": 104,
   "metadata": {},
   "outputs": [
    {
     "name": "stderr",
     "output_type": "stream",
     "text": [
      "/home/pipsini/Programs/anaconda3/lib/python3.7/site-packages/ipykernel_launcher.py:8: RuntimeWarning: invalid value encountered in sqrt\n",
      "  \n"
     ]
    },
    {
     "data": {
      "text/plain": [
       "<matplotlib.legend.Legend at 0x7f2799c23c50>"
      ]
     },
     "execution_count": 104,
     "metadata": {},
     "output_type": "execute_result"
    },
    {
     "data": {
      "image/png": "[encoded data removed]",
      "text/plain": [
       "<Figure size 432x288 with 1 Axes>"
      ]
     },
     "metadata": {
      "needs_background": "light"
     },
     "output_type": "display_data"
    }
   ],
   "source": [
    "#prepare empty lists for the upper and lower limits for the three intervals\n",
    "lower_wald = []\n",
    "upper_wald = []\n",
    "lower_wilson = []\n",
    "upper_wilson = []\n",
    "lower_agresticoull = []\n",
    "upper_agresticoull = []\n",
    "\n",
    "#n can range from 0 to N included\n",
    "n_range = range(0,N+1)\n",
    "\n",
    "for n in n_range:\n",
    "    #wald limits\n",
    "    lower_wald.append(wald(n,N,CL)[0])\n",
    "    upper_wald.append(wald(n,N,CL)[1])\n",
    "    #wilson limits\n",
    "    lower_wilson.append(wilson(n,N,CL)[0])\n",
    "    upper_wilson.append(wilson(n,N,CL)[1])\n",
    "    #agresti and coull limits\n",
    "    lower_agresticoull.append(agresticoull(n,N,CL)[0])\n",
    "    upper_agresticoull.append(agresticoull(n,N,CL)[1])\n",
    "    \n",
    "#plot limits.. confidence belt?\n",
    "plt.plot(n_range,lower_wald,label=\"wald\", color='b')\n",
    "plt.plot(n_range,upper_wald, color='b')\n",
    "plt.plot(n_range,lower_wilson,label=\"wilson\", color='r')\n",
    "plt.plot(n_range,upper_wilson, color='r')\n",
    "plt.plot(n_range,lower_agresticoull,label=\"agresticoull\", color='g')\n",
    "plt.plot(n_range,upper_agresticoull, color='g')\n",
    "plt.xlabel(\"n\")\n",
    "plt.ylabel(\"p\")\n",
    "plt.title(\"N=%d, %f sigma confidence belt\"% (n,z))\n",
    "\n",
    "plt.legend(loc='best')\n"
   ]
  },
  {
   "cell_type": "code",
   "execution_count": null,
   "metadata": {},
   "outputs": [],
   "source": []
  },
  {
   "cell_type": "code",
   "execution_count": null,
   "metadata": {},
   "outputs": [],
   "source": []
  }
 ],
 "metadata": {
  "kernelspec": {
   "display_name": "Python 3",
   "language": "python",
   "name": "python3"
  },
  "language_info": {
   "codemirror_mode": {
    "name": "ipython",
    "version": 3
   },
   "file_extension": ".py",
   "mimetype": "text/x-python",
   "name": "python",
   "nbconvert_exporter": "python",
   "pygments_lexer": "ipython3",
   "version": "3.7.3"
  }
 },
 "nbformat": 4,
 "nbformat_minor": 2
}
