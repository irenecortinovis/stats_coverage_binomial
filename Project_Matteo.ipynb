{
 "cells": [
  {
   "cell_type": "code",
   "execution_count": 26,
   "metadata": {},
   "outputs": [],
   "source": [
    "import numpy as np\n",
    "import scipy.special as sp\n",
    "import matplotlib.pyplot as plt"
   ]
  },
  {
   "cell_type": "code",
   "execution_count": 32,
   "metadata": {},
   "outputs": [],
   "source": [
    "def mean(p, N):                         # Mean value of successes E(n)\n",
    "    return p*N\n",
    "\n",
    "def var(p, N):                          # Variance of successes V(n)\n",
    "    return p*N*(1-p)\n",
    "\n",
    "def sigma(p, N):\n",
    "    return np.sqrt(var(p,N))/N\n",
    "\n",
    "def Z(CL):\n",
    "    return np.sqrt(2)*sp.erfinv(CL)     # Function that returns the number of sigmas for a given CL\n",
    "\n",
    "def wald(n, N, CL):\n",
    "    p_hat = n/N                         # Estimation of p as p = n / N = #successes / #experiments\n",
    "    p_sigma = sigma(p_hat,N)            # Standard deviation of p\n",
    "    z = Z(CL)\n",
    "    interval = [p_hat - z*p_sigma, p_hat + z*p_sigma]  # Confidence interval for p in the Gaussian approximation\n",
    "    print(\"The Wald confidence interval for p given %d successes in %d experiments is:\" % (n, N) )\n",
    "    print(interval)\n",
    "    return interval\n",
    "\n",
    "def wilson(n, N, CL):                   \n",
    "    p_hat = n/N\n",
    "    p_sigma = sigma(p_hat,N)\n",
    "    z = Z(CL)\n",
    "    step = 0.01\n",
    "    p1 = p_hat                           #initialise\n",
    "    p2 = p_hat                           #initialise\n",
    "    while(p1 + z*sigma(p1,N) >= p_hat):\n",
    "        p1-=step\n",
    "    while(p_hat >= p2 - z*sigma(p2,N)):\n",
    "        p2+=step\n",
    "    interval = [p1, p2]  # Wilson confidence interval for p\n",
    "    print(interval)\n",
    "    return interval\n",
    "\n",
    "        "
   ]
  },
  {
   "cell_type": "code",
   "execution_count": 33,
   "metadata": {},
   "outputs": [
    {
     "name": "stdout",
     "output_type": "stream",
     "text": [
      "The Wald confidence interval for p given 9 successes in 10 experiments is:\n",
      "[0.8056574415584239, 0.9943425584415762]\n",
      "[0.7599999999999999, 0.9700000000000001]\n"
     ]
    },
    {
     "data": {
      "text/plain": [
       "[0.7599999999999999, 0.9700000000000001]"
      ]
     },
     "execution_count": 33,
     "metadata": {},
     "output_type": "execute_result"
    }
   ],
   "source": [
    "N = 10\n",
    "n = 9\n",
    "\n",
    "wald(n, N, 0.68)\n",
    "wilson(n,N,0.68)"
   ]
  },
  {
   "cell_type": "code",
   "execution_count": null,
   "metadata": {},
   "outputs": [],
   "source": []
  }
 ],
 "metadata": {
  "kernelspec": {
   "display_name": "Python 3",
   "language": "python",
   "name": "python3"
  },
  "language_info": {
   "codemirror_mode": {
    "name": "ipython",
    "version": 3
   },
   "file_extension": ".py",
   "mimetype": "text/x-python",
   "name": "python",
   "nbconvert_exporter": "python",
   "pygments_lexer": "ipython3",
   "version": "3.7.3"
  }
 },
 "nbformat": 4,
 "nbformat_minor": 2
}
